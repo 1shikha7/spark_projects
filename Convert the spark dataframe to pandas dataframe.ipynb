{
 "cells": [
  {
   "cell_type": "markdown",
   "metadata": {
    "application/vnd.databricks.v1+cell": {
     "cellMetadata": {
      "byteLimit": 2048000,
      "rowLimit": 10000
     },
     "inputWidgets": {},
     "nuid": "e74e3d3e-c217-4cbd-b2d3-10b32118ec78",
     "showTitle": false,
     "title": ""
    }
   },
   "source": [
    "##Convert the spark dataframe to pandas dataframe"
   ]
  },
  {
   "cell_type": "code",
   "execution_count": 0,
   "metadata": {
    "application/vnd.databricks.v1+cell": {
     "cellMetadata": {
      "byteLimit": 2048000,
      "rowLimit": 10000
     },
     "inputWidgets": {},
     "nuid": "0ecbbcb0-a20b-48cd-ba84-b2119e21a673",
     "showTitle": false,
     "title": ""
    }
   },
   "outputs": [],
   "source": [
    "from pyspark.sql import SparkSession"
   ]
  },
  {
   "cell_type": "code",
   "execution_count": 0,
   "metadata": {
    "application/vnd.databricks.v1+cell": {
     "cellMetadata": {
      "byteLimit": 2048000,
      "rowLimit": 10000
     },
     "inputWidgets": {},
     "nuid": "97f07d07-b534-4c97-b4e9-1527f4fb4dbe",
     "showTitle": false,
     "title": ""
    }
   },
   "outputs": [],
   "source": [
    "spark = SparkSession.builder.appName('ToPandas').getOrCreate()"
   ]
  },
  {
   "cell_type": "code",
   "execution_count": 0,
   "metadata": {
    "application/vnd.databricks.v1+cell": {
     "cellMetadata": {
      "byteLimit": 2048000,
      "rowLimit": 10000
     },
     "inputWidgets": {},
     "nuid": "e0f4c02e-5d67-492c-a40b-e038e8e0e0f1",
     "showTitle": false,
     "title": ""
    }
   },
   "outputs": [],
   "source": [
    "data = [('Shikha',\"\", \"Kumari\", 170997,\"F\",2700000),\n",
    "        ('Shailza',\"\", \"Kumari\",310399,\"F\",5000000),\n",
    "        ('Shyama',\"\", \"Kumari\", 100997,\"F\",2700000),\n",
    "        ('Sweeti',\"\", \"Kumari\", 200991,\"F\",5500000)\n",
    "        ]\n",
    "columns = [\"FirstName\", \"MiddleName\", \"LastName\", \"dob\", \"gender\", \"salary\"]\n",
    "pySparkDf = spark.createDataFrame(data = data, schema = columns)"
   ]
  },
  {
   "cell_type": "code",
   "execution_count": 0,
   "metadata": {
    "application/vnd.databricks.v1+cell": {
     "cellMetadata": {
      "byteLimit": 2048000,
      "rowLimit": 10000
     },
     "inputWidgets": {},
     "nuid": "6e2b7019-731b-43ec-b790-49d45b08a838",
     "showTitle": false,
     "title": ""
    }
   },
   "outputs": [
    {
     "output_type": "stream",
     "name": "stdout",
     "output_type": "stream",
     "text": [
      "root\n |-- FirstName: string (nullable = true)\n |-- MiddleName: string (nullable = true)\n |-- LastName: string (nullable = true)\n |-- dob: long (nullable = true)\n |-- gender: string (nullable = true)\n |-- salary: long (nullable = true)\n\n"
     ]
    }
   ],
   "source": [
    "pySparkDf.printSchema()"
   ]
  },
  {
   "cell_type": "code",
   "execution_count": 0,
   "metadata": {
    "application/vnd.databricks.v1+cell": {
     "cellMetadata": {
      "byteLimit": 2048000,
      "rowLimit": 10000
     },
     "inputWidgets": {},
     "nuid": "5fbddaff-efdf-4d24-8a9e-d75812b7f409",
     "showTitle": false,
     "title": ""
    }
   },
   "outputs": [
    {
     "output_type": "stream",
     "name": "stdout",
     "output_type": "stream",
     "text": [
      "+---------+----------+--------+------+------+-------+\n|FirstName|MiddleName|LastName|dob   |gender|salary |\n+---------+----------+--------+------+------+-------+\n|Shikha   |          |Kumari  |170997|F     |2700000|\n|Shailza  |          |Kumari  |310399|F     |5000000|\n|Shyama   |          |Kumari  |100997|F     |2700000|\n|Sweeti   |          |Kumari  |200991|F     |5500000|\n+---------+----------+--------+------+------+-------+\n\n"
     ]
    }
   ],
   "source": [
    "pySparkDf.show(truncate=False)"
   ]
  },
  {
   "cell_type": "code",
   "execution_count": 0,
   "metadata": {
    "application/vnd.databricks.v1+cell": {
     "cellMetadata": {
      "byteLimit": 2048000,
      "rowLimit": 10000
     },
     "inputWidgets": {},
     "nuid": "7e3f2e4a-143c-4690-90b1-3aab25a5d71e",
     "showTitle": false,
     "title": ""
    }
   },
   "outputs": [],
   "source": [
    "pandasDf = pySparkDf.toPandas()"
   ]
  },
  {
   "cell_type": "code",
   "execution_count": 0,
   "metadata": {
    "application/vnd.databricks.v1+cell": {
     "cellMetadata": {
      "byteLimit": 2048000,
      "rowLimit": 10000
     },
     "inputWidgets": {},
     "nuid": "080fc21e-389e-4ec9-91b1-e23412df789e",
     "showTitle": false,
     "title": ""
    }
   },
   "outputs": [
    {
     "output_type": "stream",
     "name": "stdout",
     "output_type": "stream",
     "text": [
      "  FirstName MiddleName LastName     dob gender   salary\n0    Shikha              Kumari  170997      F  2700000\n1   Shailza              Kumari  310399      F  5000000\n2    Shyama              Kumari  100997      F  2700000\n3    Sweeti              Kumari  200991      F  5500000\n"
     ]
    }
   ],
   "source": [
    "print(pandasDf)"
   ]
  },
  {
   "cell_type": "markdown",
   "metadata": {
    "application/vnd.databricks.v1+cell": {
     "cellMetadata": {
      "byteLimit": 2048000,
      "rowLimit": 10000
     },
     "inputWidgets": {},
     "nuid": "b9500108-9aaf-43b0-826f-9448090c3666",
     "showTitle": false,
     "title": ""
    }
   },
   "source": [
    "## Convert spark nested struct dataframe to pandas dataframe"
   ]
  },
  {
   "cell_type": "code",
   "execution_count": 0,
   "metadata": {
    "application/vnd.databricks.v1+cell": {
     "cellMetadata": {
      "byteLimit": 2048000,
      "rowLimit": 10000
     },
     "inputWidgets": {},
     "nuid": "f1fc01cc-9390-4186-b589-4328a8c90f75",
     "showTitle": false,
     "title": ""
    }
   },
   "outputs": [],
   "source": [
    "from pyspark.sql.types import StructType, StructField, StringType, IntegerType"
   ]
  },
  {
   "cell_type": "code",
   "execution_count": 0,
   "metadata": {
    "application/vnd.databricks.v1+cell": {
     "cellMetadata": {
      "byteLimit": 2048000,
      "rowLimit": 10000
     },
     "inputWidgets": {},
     "nuid": "89f4806e-8a16-4730-8c4d-03f69da8d681",
     "showTitle": false,
     "title": ""
    }
   },
   "outputs": [],
   "source": [
    "dataStruct = [(('Shikha',\"\", \"Kumari\"), 170997,\"F\",2700000),\\\n",
    "        (('Shailza',\"\", \"Kumari\"),310399,\"F\",5000000),\\\n",
    "        (('Shyama',\"\", \"Kumari\"), 100997,\"F\",2700000),\\\n",
    "        (('Sweeti',\"\", \"Kumari\"), 200991,\"F\",5500000)\n",
    "        ]"
   ]
  },
  {
   "cell_type": "code",
   "execution_count": 0,
   "metadata": {
    "application/vnd.databricks.v1+cell": {
     "cellMetadata": {
      "byteLimit": 2048000,
      "rowLimit": 10000
     },
     "inputWidgets": {},
     "nuid": "eafd7b39-5ea6-4d77-9d9d-8ce0a7eea77b",
     "showTitle": false,
     "title": ""
    }
   },
   "outputs": [],
   "source": [
    "schemaStruct = StructType([\n",
    "    StructField(\"name\", StructType([\n",
    "        StructField(\"firstName\", StringType(), True),\n",
    "        StructField(\"middleName\", StringType(), True),\n",
    "        StructField(\"lastName\", StringType(), True)\n",
    "                                    ])),\n",
    "    StructField(\"dob\", StringType(), True),\n",
    "    StructField(\"gender\", StringType(), True),\n",
    "    StructField(\"Salary\", StringType(), True)\n",
    "                           ])"
   ]
  },
  {
   "cell_type": "code",
   "execution_count": 0,
   "metadata": {
    "application/vnd.databricks.v1+cell": {
     "cellMetadata": {
      "byteLimit": 2048000,
      "rowLimit": 10000
     },
     "inputWidgets": {},
     "nuid": "edc18223-82f3-45fb-9992-81bec18a1196",
     "showTitle": false,
     "title": ""
    }
   },
   "outputs": [],
   "source": [
    "pySparkStructDf = spark.createDataFrame(data=dataStruct, schema=schemaStruct)"
   ]
  },
  {
   "cell_type": "code",
   "execution_count": 0,
   "metadata": {
    "application/vnd.databricks.v1+cell": {
     "cellMetadata": {
      "byteLimit": 2048000,
      "rowLimit": 10000
     },
     "inputWidgets": {},
     "nuid": "fffd7b54-34d3-44d5-9461-74d4bdb35ee9",
     "showTitle": false,
     "title": ""
    }
   },
   "outputs": [
    {
     "output_type": "stream",
     "name": "stdout",
     "output_type": "stream",
     "text": [
      "root\n |-- name: struct (nullable = true)\n |    |-- firstName: string (nullable = true)\n |    |-- middleName: string (nullable = true)\n |    |-- lastName: string (nullable = true)\n |-- dob: string (nullable = true)\n |-- gender: string (nullable = true)\n |-- Salary: string (nullable = true)\n\n"
     ]
    }
   ],
   "source": [
    "pySparkStructDf.printSchema()"
   ]
  },
  {
   "cell_type": "code",
   "execution_count": 0,
   "metadata": {
    "application/vnd.databricks.v1+cell": {
     "cellMetadata": {
      "byteLimit": 2048000,
      "rowLimit": 10000
     },
     "inputWidgets": {},
     "nuid": "4a75fe95-cd7d-470f-b702-77354e710d0e",
     "showTitle": false,
     "title": ""
    }
   },
   "outputs": [
    {
     "output_type": "stream",
     "name": "stdout",
     "output_type": "stream",
     "text": [
      "+-------------------+------+------+-------+\n|               name|   dob|gender| Salary|\n+-------------------+------+------+-------+\n| {Shikha, , Kumari}|170997|     F|2700000|\n|{Shailza, , Kumari}|310399|     F|5000000|\n| {Shyama, , Kumari}|100997|     F|2700000|\n| {Sweeti, , Kumari}|200991|     F|5500000|\n+-------------------+------+------+-------+\n\n"
     ]
    }
   ],
   "source": [
    "pySparkStructDf.show()"
   ]
  },
  {
   "cell_type": "code",
   "execution_count": 0,
   "metadata": {
    "application/vnd.databricks.v1+cell": {
     "cellMetadata": {
      "byteLimit": 2048000,
      "rowLimit": 10000
     },
     "inputWidgets": {},
     "nuid": "dbfc09e5-b092-4883-881e-82e94abf09fa",
     "showTitle": false,
     "title": ""
    }
   },
   "outputs": [],
   "source": [
    "pandasStructDf = pySparkStructDf.toPandas()"
   ]
  },
  {
   "cell_type": "code",
   "execution_count": 0,
   "metadata": {
    "application/vnd.databricks.v1+cell": {
     "cellMetadata": {
      "byteLimit": 2048000,
      "rowLimit": 10000
     },
     "inputWidgets": {},
     "nuid": "f3889599-665c-4021-a3db-073b901e15db",
     "showTitle": false,
     "title": ""
    }
   },
   "outputs": [
    {
     "output_type": "stream",
     "name": "stdout",
     "output_type": "stream",
     "text": [
      "                                                name     dob gender   Salary\n0  {'firstName': 'Shikha', 'middleName': '', 'las...  170997      F  2700000\n1  {'firstName': 'Shailza', 'middleName': '', 'la...  310399      F  5000000\n2  {'firstName': 'Shyama', 'middleName': '', 'las...  100997      F  2700000\n3  {'firstName': 'Sweeti', 'middleName': '', 'las...  200991      F  5500000\n"
     ]
    }
   ],
   "source": [
    "print(pandasStructDf)"
   ]
  },
  {
   "cell_type": "code",
   "execution_count": 0,
   "metadata": {
    "application/vnd.databricks.v1+cell": {
     "cellMetadata": {},
     "inputWidgets": {},
     "nuid": "e09e0236-c883-4f21-895c-e4dbc4919d15",
     "showTitle": false,
     "title": ""
    }
   },
   "outputs": [
    {
     "output_type": "stream",
     "name": "stdout",
     "output_type": "stream",
     "text": [
      "+---------+----------+--------+------+------+-------+\n|FirstName|MiddleName|LastName|   dob|gender| salary|\n+---------+----------+--------+------+------+-------+\n|   Shikha|          |  Kumari|170997|     F|2700000|\n|  Shailza|          |  Kumari|310399|     F|5000000|\n|   Shyama|          |  Kumari|100997|     F|2700000|\n|   Sweeti|          |  Kumari|200991|     F|5500000|\n+---------+----------+--------+------+------+-------+\n\n"
     ]
    }
   ],
   "source": [
    "pySparkDf.show()"
   ]
  },
  {
   "cell_type": "code",
   "execution_count": 0,
   "metadata": {
    "application/vnd.databricks.v1+cell": {
     "cellMetadata": {
      "byteLimit": 2048000,
      "rowLimit": 10000
     },
     "inputWidgets": {},
     "nuid": "aa1b78f9-3354-446d-9641-9e5e326221b1",
     "showTitle": false,
     "title": ""
    }
   },
   "outputs": [],
   "source": []
  }
 ],
 "metadata": {
  "application/vnd.databricks.v1+notebook": {
   "dashboards": [],
   "environmentMetadata": null,
   "language": "python",
   "notebookMetadata": {
    "pythonIndentUnit": 4
   },
   "notebookName": "Convert the spark dataframe to pandas dataframe",
   "widgets": {}
  }
 },
 "nbformat": 4,
 "nbformat_minor": 0
}
